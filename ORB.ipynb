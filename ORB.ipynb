{
 "cells": [
  {
   "cell_type": "code",
   "execution_count": null,
   "id": "4c33f6f9",
   "metadata": {},
   "outputs": [],
   "source": [
    "import os\n",
    "import pandas as pd\n",
    "\n",
    "monthly_folder = \"D:/2020/Monthly Segregated\"\n",
    "monthly_folders = [f for f in os.listdir(monthly_folder) if os.path.isdir(os.path.join(monthly_folder, f))]\n",
    "column_names = ['Symbol', 'Date', 'Timestamp', 'Open', 'High', 'Low', 'Close', 'Additional_col1', 'Additional_col2']\n",
    "\n",
    "for month_folder in monthly_folders:\n",
    "    daily_folder_path = os.path.join(monthly_folder, month_folder)\n",
    "    daily_files = [f for f in os.listdir(daily_folder_path) if f.endswith('.csv')]\n",
    "    for file_name in daily_files:\n",
    "        file_path = os.path.join(daily_folder_path, file_name)\n",
    "        data = pd.read_csv(file_path, header=None)\n",
    "        data.columns = column_names\n",
    "        data.to_csv(file_path, index=False)"
   ]
  },
  {
   "cell_type": "code",
   "execution_count": 8,
   "id": "0631bbe3",
   "metadata": {},
   "outputs": [
    {
     "name": "stdout",
     "output_type": "stream",
     "text": [
      "Total Profit for April: 173.49994444210733\n",
      "Total Loss for April: 139.28308897741454\n",
      "\n",
      "Total Profit for August: 120.05787075761994\n",
      "Total Loss for August: 120.42677051506871\n",
      "\n",
      "Total Profit for December: 108.93960071525545\n",
      "Total Loss for December: 140.36607111468066\n",
      "\n",
      "Total Profit for February: 113.06192018964445\n",
      "Total Loss for February: 123.96949093205511\n",
      "\n",
      "Total Profit for January: 108.90528475950924\n",
      "Total Loss for January: 126.86991770115976\n",
      "\n",
      "Total Profit for July: 96.8621322840097\n",
      "Total Loss for July: 132.58243671337843\n",
      "\n",
      "Total Profit for June: 170.92703179825872\n",
      "Total Loss for June: 168.6171652118846\n",
      "\n",
      "Total Profit for March: 349.7790346339178\n",
      "Total Loss for March: 353.4170886163639\n",
      "\n",
      "Total Profit for May: 145.43318608886912\n",
      "Total Loss for May: 135.8046439159322\n",
      "\n",
      "Total Profit for November: 105.99399910837607\n",
      "Total Loss for November: 188.25058020526572\n",
      "\n",
      "Total Profit for October: 116.1557917202169\n",
      "Total Loss for October: 130.09594078372945\n",
      "\n",
      "Total Profit for September: 129.0665970143344\n",
      "Total Loss for September: 134.877903886114\n",
      "\n",
      "Total Profit for the Year: 1738.682393512119\n",
      "Total Loss for the Year: 1894.5610985730473\n",
      "\n",
      "\n"
     ]
    }
   ],
   "source": [
    "import os\n",
    "import pandas as pd\n",
    "\n",
    "monthly_segregated_folder = \"D:/2020/Monthly Segregated\"\n",
    "total_profit_year = 0\n",
    "total_loss_year = 0\n",
    "\n",
    "for month_folder in os.listdir(monthly_segregated_folder):\n",
    "    daily_folder_path = os.path.join(monthly_segregated_folder, month_folder)\n",
    "    total_profit = 0\n",
    "    total_loss = 0\n",
    "    for csv_file in os.listdir(daily_folder_path):\n",
    "        data = pd.read_csv(os.path.join(daily_folder_path, csv_file))\n",
    "        data['open_range'] = data['High'] - data['Low']\n",
    "        data['first_15_min_high'] = data['High'].rolling(window=15).max()\n",
    "        data['first_15_min_low'] = data['Low'].rolling(window=15).min()\n",
    "        data['buy_signal'] = data['High'] > data['first_15_min_high'].shift(1)\n",
    "        data['sell_signal'] = data['Low'] < data['first_15_min_low'].shift(1)\n",
    "        in_trade = False  \n",
    "        entry_price = 0    \n",
    "        stop_loss_percent = 0.5  \n",
    "        for index, row in data.iterrows():\n",
    "            if row['buy_signal'] and not in_trade:\n",
    "                entry_price = row['Close']\n",
    "                in_trade = True\n",
    "\n",
    "            elif row['sell_signal'] and in_trade:\n",
    "                exit_price = row['Close']\n",
    "                in_trade = False\n",
    "                trade_pnl = (exit_price - entry_price) / entry_price * 100  \n",
    "                if trade_pnl > 0:\n",
    "                    total_profit += trade_pnl\n",
    "                else:\n",
    "                    total_loss += abs(trade_pnl)\n",
    "\n",
    "    print(f'Total Profit for {month_folder}: {total_profit}')\n",
    "    print(f'Total Loss for {month_folder}: {total_loss}')\n",
    "    print()\n",
    "\n",
    "    total_profit_year += total_profit\n",
    "    total_loss_year += total_loss\n",
    "\n",
    "print(f'Total Profit for the Year: {total_profit_year}')\n",
    "print(f'Total Loss for the Year: {total_loss_year}\\n')\n",
    "print()"
   ]
  },
  {
   "cell_type": "code",
   "execution_count": 11,
   "id": "f89ba41d",
   "metadata": {},
   "outputs": [
    {
     "name": "stdout",
     "output_type": "stream",
     "text": [
      "Total Trades: 1829\n",
      "Winning Trades: 1427\n",
      "Losing Trades: 402\n",
      "Win Rate: 78.02%\n",
      "Average Profit per Trade: 0.09 Rupees\n",
      "Average Loss per Trade: 0.34 Rupees\n"
     ]
    }
   ],
   "source": [
    "total_trades = len(data[data['buy_signal'] | data['sell_signal']])\n",
    "winning_trades = len(data[data['buy_signal'] & (data['Close'] > data['Close'].shift(1))]) + len(data[data['sell_signal'] & (data['Close'] < data['Close'].shift(1))])\n",
    "losing_trades = total_trades - winning_trades\n",
    "win_rate = winning_trades / total_trades if total_trades > 0 else 0\n",
    "average_profit_per_trade = total_profit / winning_trades if winning_trades > 0 else 0\n",
    "average_loss_per_trade = total_loss / losing_trades if losing_trades > 0 else 0\n",
    "\n",
    "print(f'Total Trades: {total_trades}')\n",
    "print(f'Winning Trades: {winning_trades}')\n",
    "print(f'Losing Trades: {losing_trades}')\n",
    "print(f'Win Rate: {win_rate * 100:.2f}%')\n",
    "print(f'Average Profit per Trade: {average_profit_per_trade:.2f} Rupees')\n",
    "print(f'Average Loss per Trade: {average_loss_per_trade:.2f} Rupees')\n"
   ]
  },
  {
   "cell_type": "code",
   "execution_count": null,
   "id": "78aff0b9",
   "metadata": {},
   "outputs": [],
   "source": []
  }
 ],
 "metadata": {
  "kernelspec": {
   "display_name": "Python 3 (ipykernel)",
   "language": "python",
   "name": "python3"
  },
  "language_info": {
   "codemirror_mode": {
    "name": "ipython",
    "version": 3
   },
   "file_extension": ".py",
   "mimetype": "text/x-python",
   "name": "python",
   "nbconvert_exporter": "python",
   "pygments_lexer": "ipython3",
   "version": "3.9.13"
  }
 },
 "nbformat": 4,
 "nbformat_minor": 5
}
